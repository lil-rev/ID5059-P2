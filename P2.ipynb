{
 "cells": [
  {
   "attachments": {},
   "cell_type": "markdown",
   "metadata": {},
   "source": [
    "# ID5059 P2 - Credit Card Fraud Detection\n",
    "180016546, _, _, _, _\n",
    "\n",
    "#### Plan:\n",
    "1. Setup\n",
    "2. Explore data\n",
    "3. Imputing\n",
    "4. Balancing\n",
    "5. Present Models\n",
    "    1. Decision Tree\n",
    "    2. Decision Tree with ADA Boosting\n",
    "    3. Logistic Regression\n",
    "    4. Logistic Regression with SMOTE\n",
    "    5. Logistic Regression with Elastic Net\n",
    "6. Evaluation"
   ]
  },
  {
   "attachments": {},
   "cell_type": "markdown",
   "metadata": {},
   "source": [
    "### 1. Setup\n",
    "Import required libraries."
   ]
  },
  {
   "cell_type": "code",
   "execution_count": 1,
   "metadata": {},
   "outputs": [
    {
     "name": "stdout",
     "output_type": "stream",
     "text": [
      "Defaulting to user installation because normal site-packages is not writeable\n",
      "Collecting pandas\n",
      "  Downloading pandas-2.0.0-cp39-cp39-manylinux_2_17_x86_64.manylinux2014_x86_64.whl (12.4 MB)\n",
      "Collecting matplotlib\n",
      "  Downloading matplotlib-3.7.1-cp39-cp39-manylinux_2_17_x86_64.manylinux2014_x86_64.whl (11.6 MB)\n",
      "Collecting scikit-learn\n",
      "  Downloading scikit_learn-1.2.2-cp39-cp39-manylinux_2_17_x86_64.manylinux2014_x86_64.whl (9.6 MB)\n",
      "Collecting seaborn\n",
      "  Downloading seaborn-0.12.2-py3-none-any.whl (293 kB)\n",
      "Collecting imblearn\n",
      "  Downloading imblearn-0.0-py2.py3-none-any.whl (1.9 kB)\n",
      "Collecting numpy\n",
      "  Downloading numpy-1.24.2-cp39-cp39-manylinux_2_17_x86_64.manylinux2014_x86_64.whl (17.3 MB)\n",
      "Collecting tzdata>=2022.1\n",
      "  Downloading tzdata-2023.3-py2.py3-none-any.whl (341 kB)\n",
      "Collecting fonttools>=4.22.0\n",
      "  Downloading fonttools-4.39.3-py3-none-any.whl (1.0 MB)\n",
      "Collecting cycler>=0.10\n",
      "  Downloading cycler-0.11.0-py3-none-any.whl (6.4 kB)\n",
      "Collecting importlib-resources>=3.2.0\n",
      "  Downloading importlib_resources-5.12.0-py3-none-any.whl (36 kB)\n",
      "Collecting kiwisolver>=1.0.1\n",
      "  Downloading kiwisolver-1.4.4-cp39-cp39-manylinux_2_12_x86_64.manylinux2010_x86_64.whl (1.6 MB)\n",
      "Collecting contourpy>=1.0.1\n",
      "  Downloading contourpy-1.0.7-cp39-cp39-manylinux_2_17_x86_64.manylinux2014_x86_64.whl (299 kB)\n",
      "Collecting pillow>=6.2.0\n",
      "  Downloading Pillow-9.5.0-cp39-cp39-manylinux_2_28_x86_64.whl (3.4 MB)\n",
      "Collecting joblib>=1.1.1\n",
      "  Downloading joblib-1.2.0-py3-none-any.whl (297 kB)\n",
      "Collecting scipy>=1.3.2\n",
      "  Downloading scipy-1.10.1-cp39-cp39-manylinux_2_17_x86_64.manylinux2014_x86_64.whl (34.5 MB)\n",
      "Collecting threadpoolctl>=2.0.0\n",
      "  Downloading threadpoolctl-3.1.0-py3-none-any.whl (14 kB)\n",
      "Collecting imbalanced-learn\n",
      "  Downloading imbalanced_learn-0.10.1-py3-none-any.whl (226 kB)\n",
      "Installing collected packages: numpy, threadpoolctl, scipy, joblib, tzdata, scikit-learn, pillow, kiwisolver, importlib-resources, fonttools, cycler, contourpy, pandas, matplotlib, imbalanced-learn, seaborn, imblearn\n",
      "\u001b[33m  WARNING: Value for scheme.platlib does not match. Please report this to <https://github.com/pypa/pip/issues/10151>\n",
      "  distutils: /home/fiw/.local/lib/python3.9/site-packages\n",
      "  sysconfig: /home/fiw/.local/lib64/python3.9/site-packages\u001b[0m\n",
      "\u001b[33m  WARNING: Additional context:\n",
      "  user = True\n",
      "  home = None\n",
      "  root = None\n",
      "  prefix = None\u001b[0m\n",
      "Successfully installed contourpy-1.0.7 cycler-0.11.0 fonttools-4.39.3 imbalanced-learn-0.10.1 imblearn-0.0 importlib-resources-5.12.0 joblib-1.2.0 kiwisolver-1.4.4 matplotlib-3.7.1 numpy-1.24.2 pandas-2.0.0 pillow-9.5.0 scikit-learn-1.2.2 scipy-1.10.1 seaborn-0.12.2 threadpoolctl-3.1.0 tzdata-2023.3\n"
     ]
    }
   ],
   "source": [
    "import sys\n",
    "!{sys.executable} -m pip install numpy pandas matplotlib scikit-learn seaborn imblearn | grep -v 'already satisfied'\n",
    "\n",
    "import pandas as pd\n",
    "import numpy as np \n",
    "import matplotlib.pyplot as plt\n",
    "import seaborn as sb\n",
    "\n",
    "from imblearn.over_sampling import SMOTE\n",
    "from imblearn.under_sampling import RandomUnderSampler\n",
    "from sklearn import tree\n",
    "from sklearn.tree import DecisionTreeClassifier\n",
    "from sklearn.ensemble import AdaBoostClassifier\n",
    "from sklearn.preprocessing import StandardScaler\n",
    "from sklearn.linear_model import LogisticRegression\n",
    "from sklearn.model_selection import cross_val_score, StratifiedKFold, GridSearchCV\n",
    "%matplotlib inline \n",
    "\n",
    "SEED = 618"
   ]
  },
  {
   "attachments": {},
   "cell_type": "markdown",
   "metadata": {},
   "source": [
    "Read in datasets."
   ]
  },
  {
   "cell_type": "code",
   "execution_count": 2,
   "metadata": {},
   "outputs": [
    {
     "data": {
      "text/html": [
       "<div>\n",
       "<style scoped>\n",
       "    .dataframe tbody tr th:only-of-type {\n",
       "        vertical-align: middle;\n",
       "    }\n",
       "\n",
       "    .dataframe tbody tr th {\n",
       "        vertical-align: top;\n",
       "    }\n",
       "\n",
       "    .dataframe thead th {\n",
       "        text-align: right;\n",
       "    }\n",
       "</style>\n",
       "<table border=\"1\" class=\"dataframe\">\n",
       "  <thead>\n",
       "    <tr style=\"text-align: right;\">\n",
       "      <th></th>\n",
       "      <th>id</th>\n",
       "      <th>Time</th>\n",
       "      <th>V1</th>\n",
       "      <th>V2</th>\n",
       "      <th>V3</th>\n",
       "      <th>V4</th>\n",
       "      <th>V5</th>\n",
       "      <th>V6</th>\n",
       "      <th>V7</th>\n",
       "      <th>V8</th>\n",
       "      <th>V9</th>\n",
       "      <th>V10</th>\n",
       "      <th>V11</th>\n",
       "      <th>V12</th>\n",
       "      <th>V13</th>\n",
       "      <th>V14</th>\n",
       "      <th>V15</th>\n",
       "      <th>V16</th>\n",
       "      <th>V17</th>\n",
       "      <th>V18</th>\n",
       "      <th>V19</th>\n",
       "      <th>V20</th>\n",
       "      <th>V21</th>\n",
       "      <th>V22</th>\n",
       "      <th>V23</th>\n",
       "      <th>V24</th>\n",
       "      <th>V25</th>\n",
       "      <th>V26</th>\n",
       "      <th>V27</th>\n",
       "      <th>V28</th>\n",
       "      <th>Amount</th>\n",
       "      <th>Class</th>\n",
       "    </tr>\n",
       "  </thead>\n",
       "  <tbody>\n",
       "    <tr>\n",
       "      <th>0</th>\n",
       "      <td>0</td>\n",
       "      <td>0.0</td>\n",
       "      <td>2.074329</td>\n",
       "      <td>-0.129425</td>\n",
       "      <td>-1.137418</td>\n",
       "      <td>0.412846</td>\n",
       "      <td>-0.192638</td>\n",
       "      <td>-1.210144</td>\n",
       "      <td>0.110697</td>\n",
       "      <td>-0.263477</td>\n",
       "      <td>0.742144</td>\n",
       "      <td>0.108782</td>\n",
       "      <td>-1.070243</td>\n",
       "      <td>-0.234910</td>\n",
       "      <td>-1.099360</td>\n",
       "      <td>0.502467</td>\n",
       "      <td>0.169318</td>\n",
       "      <td>0.065688</td>\n",
       "      <td>-0.306957</td>\n",
       "      <td>-0.323800</td>\n",
       "      <td>0.103348</td>\n",
       "      <td>-0.292969</td>\n",
       "      <td>-0.334701</td>\n",
       "      <td>-0.887840</td>\n",
       "      <td>0.336701</td>\n",
       "      <td>-0.110835</td>\n",
       "      <td>-0.291459</td>\n",
       "      <td>0.207733</td>\n",
       "      <td>-0.076576</td>\n",
       "      <td>-0.059577</td>\n",
       "      <td>1.98</td>\n",
       "      <td>0</td>\n",
       "    </tr>\n",
       "    <tr>\n",
       "      <th>1</th>\n",
       "      <td>1</td>\n",
       "      <td>0.0</td>\n",
       "      <td>1.998827</td>\n",
       "      <td>-1.250891</td>\n",
       "      <td>-0.520969</td>\n",
       "      <td>-0.894539</td>\n",
       "      <td>-1.122528</td>\n",
       "      <td>-0.270866</td>\n",
       "      <td>-1.029289</td>\n",
       "      <td>0.050198</td>\n",
       "      <td>-0.109948</td>\n",
       "      <td>0.908773</td>\n",
       "      <td>0.836798</td>\n",
       "      <td>-0.056580</td>\n",
       "      <td>-0.120990</td>\n",
       "      <td>-0.144028</td>\n",
       "      <td>-0.039582</td>\n",
       "      <td>1.653057</td>\n",
       "      <td>-0.253599</td>\n",
       "      <td>-0.814354</td>\n",
       "      <td>0.716784</td>\n",
       "      <td>0.065717</td>\n",
       "      <td>0.054848</td>\n",
       "      <td>-0.038367</td>\n",
       "      <td>0.133518</td>\n",
       "      <td>-0.461928</td>\n",
       "      <td>-0.465491</td>\n",
       "      <td>-0.464655</td>\n",
       "      <td>-0.009413</td>\n",
       "      <td>-0.038238</td>\n",
       "      <td>84.00</td>\n",
       "      <td>0</td>\n",
       "    </tr>\n",
       "    <tr>\n",
       "      <th>2</th>\n",
       "      <td>2</td>\n",
       "      <td>0.0</td>\n",
       "      <td>0.091535</td>\n",
       "      <td>1.004517</td>\n",
       "      <td>-0.223445</td>\n",
       "      <td>-0.435249</td>\n",
       "      <td>0.667548</td>\n",
       "      <td>-0.988351</td>\n",
       "      <td>0.948146</td>\n",
       "      <td>-0.084789</td>\n",
       "      <td>-0.042027</td>\n",
       "      <td>-0.818383</td>\n",
       "      <td>-0.376512</td>\n",
       "      <td>-0.226546</td>\n",
       "      <td>-0.552869</td>\n",
       "      <td>-0.886466</td>\n",
       "      <td>-0.180890</td>\n",
       "      <td>0.230286</td>\n",
       "      <td>0.590579</td>\n",
       "      <td>-0.321590</td>\n",
       "      <td>-0.433959</td>\n",
       "      <td>-0.021375</td>\n",
       "      <td>-0.326725</td>\n",
       "      <td>-0.803736</td>\n",
       "      <td>0.154495</td>\n",
       "      <td>0.951233</td>\n",
       "      <td>-0.506919</td>\n",
       "      <td>0.085046</td>\n",
       "      <td>0.224458</td>\n",
       "      <td>0.087356</td>\n",
       "      <td>2.69</td>\n",
       "      <td>0</td>\n",
       "    </tr>\n",
       "    <tr>\n",
       "      <th>3</th>\n",
       "      <td>3</td>\n",
       "      <td>0.0</td>\n",
       "      <td>1.979649</td>\n",
       "      <td>-0.184949</td>\n",
       "      <td>-1.064206</td>\n",
       "      <td>0.120125</td>\n",
       "      <td>-0.215238</td>\n",
       "      <td>-0.648829</td>\n",
       "      <td>-0.087826</td>\n",
       "      <td>-0.035367</td>\n",
       "      <td>0.885838</td>\n",
       "      <td>-0.007527</td>\n",
       "      <td>0.637441</td>\n",
       "      <td>0.676960</td>\n",
       "      <td>-1.504823</td>\n",
       "      <td>0.554039</td>\n",
       "      <td>-0.824356</td>\n",
       "      <td>-0.527267</td>\n",
       "      <td>-0.095838</td>\n",
       "      <td>-0.312519</td>\n",
       "      <td>0.642659</td>\n",
       "      <td>-0.340089</td>\n",
       "      <td>-0.095514</td>\n",
       "      <td>-0.079792</td>\n",
       "      <td>0.167701</td>\n",
       "      <td>-0.042939</td>\n",
       "      <td>0.000799</td>\n",
       "      <td>-0.096148</td>\n",
       "      <td>-0.057780</td>\n",
       "      <td>-0.073839</td>\n",
       "      <td>1.00</td>\n",
       "      <td>0</td>\n",
       "    </tr>\n",
       "    <tr>\n",
       "      <th>4</th>\n",
       "      <td>4</td>\n",
       "      <td>0.0</td>\n",
       "      <td>1.025898</td>\n",
       "      <td>-0.171827</td>\n",
       "      <td>1.203717</td>\n",
       "      <td>1.243900</td>\n",
       "      <td>-0.636572</td>\n",
       "      <td>1.099074</td>\n",
       "      <td>-0.938651</td>\n",
       "      <td>0.569239</td>\n",
       "      <td>0.692665</td>\n",
       "      <td>-0.097495</td>\n",
       "      <td>1.338869</td>\n",
       "      <td>1.391399</td>\n",
       "      <td>-0.128167</td>\n",
       "      <td>-0.081836</td>\n",
       "      <td>0.100548</td>\n",
       "      <td>-0.338937</td>\n",
       "      <td>0.090864</td>\n",
       "      <td>-0.423645</td>\n",
       "      <td>-0.731939</td>\n",
       "      <td>-0.203628</td>\n",
       "      <td>0.099157</td>\n",
       "      <td>0.608908</td>\n",
       "      <td>0.027901</td>\n",
       "      <td>-0.262813</td>\n",
       "      <td>0.257834</td>\n",
       "      <td>-0.252829</td>\n",
       "      <td>0.108338</td>\n",
       "      <td>0.021051</td>\n",
       "      <td>1.00</td>\n",
       "      <td>0</td>\n",
       "    </tr>\n",
       "  </tbody>\n",
       "</table>\n",
       "</div>"
      ],
      "text/plain": [
       "   id  Time        V1        V2        V3        V4        V5        V6   \n",
       "0   0   0.0  2.074329 -0.129425 -1.137418  0.412846 -0.192638 -1.210144  \\\n",
       "1   1   0.0  1.998827 -1.250891 -0.520969 -0.894539 -1.122528 -0.270866   \n",
       "2   2   0.0  0.091535  1.004517 -0.223445 -0.435249  0.667548 -0.988351   \n",
       "3   3   0.0  1.979649 -0.184949 -1.064206  0.120125 -0.215238 -0.648829   \n",
       "4   4   0.0  1.025898 -0.171827  1.203717  1.243900 -0.636572  1.099074   \n",
       "\n",
       "         V7        V8        V9       V10       V11       V12       V13   \n",
       "0  0.110697 -0.263477  0.742144  0.108782 -1.070243 -0.234910 -1.099360  \\\n",
       "1 -1.029289  0.050198 -0.109948  0.908773  0.836798 -0.056580 -0.120990   \n",
       "2  0.948146 -0.084789 -0.042027 -0.818383 -0.376512 -0.226546 -0.552869   \n",
       "3 -0.087826 -0.035367  0.885838 -0.007527  0.637441  0.676960 -1.504823   \n",
       "4 -0.938651  0.569239  0.692665 -0.097495  1.338869  1.391399 -0.128167   \n",
       "\n",
       "        V14       V15       V16       V17       V18       V19       V20   \n",
       "0  0.502467  0.169318  0.065688 -0.306957 -0.323800  0.103348 -0.292969  \\\n",
       "1 -0.144028 -0.039582  1.653057 -0.253599 -0.814354  0.716784  0.065717   \n",
       "2 -0.886466 -0.180890  0.230286  0.590579 -0.321590 -0.433959 -0.021375   \n",
       "3  0.554039 -0.824356 -0.527267 -0.095838 -0.312519  0.642659 -0.340089   \n",
       "4 -0.081836  0.100548 -0.338937  0.090864 -0.423645 -0.731939 -0.203628   \n",
       "\n",
       "        V21       V22       V23       V24       V25       V26       V27   \n",
       "0 -0.334701 -0.887840  0.336701 -0.110835 -0.291459  0.207733 -0.076576  \\\n",
       "1  0.054848 -0.038367  0.133518 -0.461928 -0.465491 -0.464655 -0.009413   \n",
       "2 -0.326725 -0.803736  0.154495  0.951233 -0.506919  0.085046  0.224458   \n",
       "3 -0.095514 -0.079792  0.167701 -0.042939  0.000799 -0.096148 -0.057780   \n",
       "4  0.099157  0.608908  0.027901 -0.262813  0.257834 -0.252829  0.108338   \n",
       "\n",
       "        V28  Amount  Class  \n",
       "0 -0.059577    1.98      0  \n",
       "1 -0.038238   84.00      0  \n",
       "2  0.087356    2.69      0  \n",
       "3 -0.073839    1.00      0  \n",
       "4  0.021051    1.00      0  "
      ]
     },
     "execution_count": 2,
     "metadata": {},
     "output_type": "execute_result"
    }
   ],
   "source": [
    "# Read in data\n",
    "train = pd.read_csv(\"train.csv\")\n",
    "test = pd.read_csv(\"test.csv\")\n",
    "\n",
    "# Clear the maximum number of columns to be displayed, so that all will be visible.\n",
    "pd.set_option('display.max_columns', None)\n",
    "\n",
    "train.head()"
   ]
  },
  {
   "attachments": {},
   "cell_type": "markdown",
   "metadata": {},
   "source": [
    "Split `train` data into `X` and `y`."
   ]
  },
  {
   "cell_type": "code",
   "execution_count": 3,
   "metadata": {},
   "outputs": [],
   "source": [
    "# set id as index\n",
    "train = train.set_index('id')\n",
    "test = test.set_index('id')\n",
    "\n",
    "# split train set into X_train, y_train\n",
    "y_train = train['Class']\n",
    "X_train = train.drop('Class', axis = 1)"
   ]
  },
  {
   "cell_type": "code",
   "execution_count": 4,
   "metadata": {},
   "outputs": [],
   "source": [
    "# Make a function to format results\n",
    "def output_func(predictions):\n",
    "    results = pd.DataFrame({'id': test.index, 'Class': predictions[:,1]})\n",
    "    return results"
   ]
  },
  {
   "cell_type": "code",
   "execution_count": 5,
   "metadata": {},
   "outputs": [],
   "source": [
    "# Make function to export csv\n",
    "def export_func (results, filename = 'out'):\n",
    "    results.to_csv(filename, index = False)"
   ]
  },
  {
   "attachments": {},
   "cell_type": "markdown",
   "metadata": {},
   "source": [
    "---\n",
    "\n",
    "### 2. Explore data\n",
    "Check dataset completeness"
   ]
  },
  {
   "cell_type": "code",
   "execution_count": 6,
   "metadata": {},
   "outputs": [
    {
     "name": "stdout",
     "output_type": "stream",
     "text": [
      "<class 'pandas.core.frame.DataFrame'>\n",
      "Index: 219129 entries, 0 to 219128\n",
      "Data columns (total 31 columns):\n",
      " #   Column  Non-Null Count   Dtype  \n",
      "---  ------  --------------   -----  \n",
      " 0   Time    219129 non-null  float64\n",
      " 1   V1      219129 non-null  float64\n",
      " 2   V2      219129 non-null  float64\n",
      " 3   V3      219129 non-null  float64\n",
      " 4   V4      219129 non-null  float64\n",
      " 5   V5      219129 non-null  float64\n",
      " 6   V6      219129 non-null  float64\n",
      " 7   V7      219129 non-null  float64\n",
      " 8   V8      219129 non-null  float64\n",
      " 9   V9      219129 non-null  float64\n",
      " 10  V10     219129 non-null  float64\n",
      " 11  V11     219129 non-null  float64\n",
      " 12  V12     219129 non-null  float64\n",
      " 13  V13     219129 non-null  float64\n",
      " 14  V14     219129 non-null  float64\n",
      " 15  V15     219129 non-null  float64\n",
      " 16  V16     219129 non-null  float64\n",
      " 17  V17     219129 non-null  float64\n",
      " 18  V18     219129 non-null  float64\n",
      " 19  V19     219129 non-null  float64\n",
      " 20  V20     219129 non-null  float64\n",
      " 21  V21     219129 non-null  float64\n",
      " 22  V22     219129 non-null  float64\n",
      " 23  V23     219129 non-null  float64\n",
      " 24  V24     219129 non-null  float64\n",
      " 25  V25     219129 non-null  float64\n",
      " 26  V26     219129 non-null  float64\n",
      " 27  V27     219129 non-null  float64\n",
      " 28  V28     219129 non-null  float64\n",
      " 29  Amount  219129 non-null  float64\n",
      " 30  Class   219129 non-null  int64  \n",
      "dtypes: float64(30), int64(1)\n",
      "memory usage: 53.5 MB\n"
     ]
    }
   ],
   "source": [
    "train.info()"
   ]
  },
  {
   "attachments": {},
   "cell_type": "markdown",
   "metadata": {},
   "source": [
    "Dataset is complete! All floats except `Class` which is `int`:"
   ]
  },
  {
   "cell_type": "code",
   "execution_count": 7,
   "metadata": {},
   "outputs": [
    {
     "data": {
      "text/plain": [
       "array([0, 1])"
      ]
     },
     "execution_count": 7,
     "metadata": {},
     "output_type": "execute_result"
    }
   ],
   "source": [
    "train['Class'].unique()"
   ]
  },
  {
   "attachments": {},
   "cell_type": "markdown",
   "metadata": {},
   "source": [
    "`Class` is binary: 0 = no fraud, 1 = fraud. Lets investigate fraud rate in `train`."
   ]
  },
  {
   "cell_type": "code",
   "execution_count": 8,
   "metadata": {},
   "outputs": [
    {
     "name": "stdout",
     "output_type": "stream",
     "text": [
      "fraud: 469 \n",
      "total entries: 219129 \n",
      "fraud rate 0.21 %\n"
     ]
    }
   ],
   "source": [
    "# lets just check how much of our train set is fraudulent\n",
    "fraud = train['Class'].sum()\n",
    "fraud_percent = fraud/len(train['Class']) * 100\n",
    "\n",
    "print('fraud:', fraud, '\\ntotal entries:', len(train['Class']), '\\nfraud rate', round(fraud_percent, 2), '%')"
   ]
  },
  {
   "attachments": {},
   "cell_type": "markdown",
   "metadata": {},
   "source": [
    "Visualise columm value spread."
   ]
  },
  {
   "cell_type": "code",
   "execution_count": 9,
   "metadata": {},
   "outputs": [
    {
     "data": {
      "image/png": "[encoded data removed]",
      "text/plain": [
       "<Figure size 1500x1500 with 36 Axes>"
      ]
     },
     "metadata": {},
     "output_type": "display_data"
    }
   ],
   "source": [
    "# look at a random subset of data\n",
    "train_subset = train.sample(1000)\n",
    "train_subset.hist(bins=50, figsize=(15, 15))\n",
    "plt.show()"
   ]
  },
  {
   "attachments": {},
   "cell_type": "markdown",
   "metadata": {},
   "source": [
    "Virtually all columns follow bell curve, meaning fraud cases likely to exist as outliers.\n",
    "\n",
    "Generate correlation heatmap (TODO: visualise better)"
   ]
  },
  {
   "cell_type": "code",
   "execution_count": 10,
   "metadata": {},
   "outputs": [
    {
     "data": {
      "text/plain": [
       "<Axes: >"
      ]
     },
     "execution_count": 10,
     "metadata": {},
     "output_type": "execute_result"
    },
    {
     "data": {
      "image/png": "[encoded data removed]",
      "text/plain": [
       "<Figure size 1500x1500 with 2 Axes>"
      ]
     },
     "metadata": {},
     "output_type": "display_data"
    }
   ],
   "source": [
    "corr = train_subset.corr()\n",
    "fig, ax = plt.subplots(figsize=(15,15)) \n",
    "sb.heatmap(corr, cmap=\"Blues\", ax=ax, square=True)"
   ]
  },
  {
   "attachments": {},
   "cell_type": "markdown",
   "metadata": {},
   "source": [
    "Focus correlations on `Class`:"
   ]
  },
  {
   "cell_type": "code",
   "execution_count": 11,
   "metadata": {},
   "outputs": [
    {
     "data": {
      "text/html": [
       "<div>\n",
       "<style scoped>\n",
       "    .dataframe tbody tr th:only-of-type {\n",
       "        vertical-align: middle;\n",
       "    }\n",
       "\n",
       "    .dataframe tbody tr th {\n",
       "        vertical-align: top;\n",
       "    }\n",
       "\n",
       "    .dataframe thead th {\n",
       "        text-align: right;\n",
       "    }\n",
       "</style>\n",
       "<table border=\"1\" class=\"dataframe\">\n",
       "  <thead>\n",
       "    <tr style=\"text-align: right;\">\n",
       "      <th></th>\n",
       "      <th>Class</th>\n",
       "    </tr>\n",
       "  </thead>\n",
       "  <tbody>\n",
       "    <tr>\n",
       "      <th>Class</th>\n",
       "      <td>1.000000</td>\n",
       "    </tr>\n",
       "    <tr>\n",
       "      <th>V21</th>\n",
       "      <td>0.152783</td>\n",
       "    </tr>\n",
       "    <tr>\n",
       "      <th>V3</th>\n",
       "      <td>0.099594</td>\n",
       "    </tr>\n",
       "    <tr>\n",
       "      <th>V6</th>\n",
       "      <td>0.084463</td>\n",
       "    </tr>\n",
       "    <tr>\n",
       "      <th>Time</th>\n",
       "      <td>0.073712</td>\n",
       "    </tr>\n",
       "    <tr>\n",
       "      <th>V18</th>\n",
       "      <td>0.070953</td>\n",
       "    </tr>\n",
       "    <tr>\n",
       "      <th>V20</th>\n",
       "      <td>0.064303</td>\n",
       "    </tr>\n",
       "    <tr>\n",
       "      <th>V5</th>\n",
       "      <td>0.060192</td>\n",
       "    </tr>\n",
       "    <tr>\n",
       "      <th>V14</th>\n",
       "      <td>0.058893</td>\n",
       "    </tr>\n",
       "    <tr>\n",
       "      <th>V22</th>\n",
       "      <td>0.049847</td>\n",
       "    </tr>\n",
       "    <tr>\n",
       "      <th>V28</th>\n",
       "      <td>0.049585</td>\n",
       "    </tr>\n",
       "    <tr>\n",
       "      <th>V7</th>\n",
       "      <td>0.047120</td>\n",
       "    </tr>\n",
       "    <tr>\n",
       "      <th>V4</th>\n",
       "      <td>0.042353</td>\n",
       "    </tr>\n",
       "    <tr>\n",
       "      <th>V17</th>\n",
       "      <td>0.039852</td>\n",
       "    </tr>\n",
       "    <tr>\n",
       "      <th>V23</th>\n",
       "      <td>0.031912</td>\n",
       "    </tr>\n",
       "    <tr>\n",
       "      <th>V13</th>\n",
       "      <td>0.030295</td>\n",
       "    </tr>\n",
       "    <tr>\n",
       "      <th>V15</th>\n",
       "      <td>0.026977</td>\n",
       "    </tr>\n",
       "    <tr>\n",
       "      <th>V8</th>\n",
       "      <td>0.025470</td>\n",
       "    </tr>\n",
       "    <tr>\n",
       "      <th>Amount</th>\n",
       "      <td>0.025269</td>\n",
       "    </tr>\n",
       "    <tr>\n",
       "      <th>V26</th>\n",
       "      <td>0.022794</td>\n",
       "    </tr>\n",
       "    <tr>\n",
       "      <th>V24</th>\n",
       "      <td>0.020589</td>\n",
       "    </tr>\n",
       "    <tr>\n",
       "      <th>V16</th>\n",
       "      <td>0.019833</td>\n",
       "    </tr>\n",
       "    <tr>\n",
       "      <th>V27</th>\n",
       "      <td>0.019327</td>\n",
       "    </tr>\n",
       "    <tr>\n",
       "      <th>V2</th>\n",
       "      <td>0.015428</td>\n",
       "    </tr>\n",
       "    <tr>\n",
       "      <th>V12</th>\n",
       "      <td>0.013782</td>\n",
       "    </tr>\n",
       "    <tr>\n",
       "      <th>V9</th>\n",
       "      <td>0.013637</td>\n",
       "    </tr>\n",
       "    <tr>\n",
       "      <th>V25</th>\n",
       "      <td>0.012127</td>\n",
       "    </tr>\n",
       "    <tr>\n",
       "      <th>V1</th>\n",
       "      <td>0.010109</td>\n",
       "    </tr>\n",
       "    <tr>\n",
       "      <th>V10</th>\n",
       "      <td>0.007330</td>\n",
       "    </tr>\n",
       "    <tr>\n",
       "      <th>V19</th>\n",
       "      <td>0.005092</td>\n",
       "    </tr>\n",
       "    <tr>\n",
       "      <th>V11</th>\n",
       "      <td>0.001025</td>\n",
       "    </tr>\n",
       "  </tbody>\n",
       "</table>\n",
       "</div>"
      ],
      "text/plain": [
       "           Class\n",
       "Class   1.000000\n",
       "V21     0.152783\n",
       "V3      0.099594\n",
       "V6      0.084463\n",
       "Time    0.073712\n",
       "V18     0.070953\n",
       "V20     0.064303\n",
       "V5      0.060192\n",
       "V14     0.058893\n",
       "V22     0.049847\n",
       "V28     0.049585\n",
       "V7      0.047120\n",
       "V4      0.042353\n",
       "V17     0.039852\n",
       "V23     0.031912\n",
       "V13     0.030295\n",
       "V15     0.026977\n",
       "V8      0.025470\n",
       "Amount  0.025269\n",
       "V26     0.022794\n",
       "V24     0.020589\n",
       "V16     0.019833\n",
       "V27     0.019327\n",
       "V2      0.015428\n",
       "V12     0.013782\n",
       "V9      0.013637\n",
       "V25     0.012127\n",
       "V1      0.010109\n",
       "V10     0.007330\n",
       "V19     0.005092\n",
       "V11     0.001025"
      ]
     },
     "execution_count": 11,
     "metadata": {},
     "output_type": "execute_result"
    }
   ],
   "source": [
    "cor = train_subset.corr() # correlation coefficients (correlation with price)\n",
    "pd.DataFrame(abs(cor['Class']).sort_values(ascending=False))"
   ]
  },
  {
   "attachments": {},
   "cell_type": "markdown",
   "metadata": {},
   "source": [
    "No great correlations present."
   ]
  },
  {
   "attachments": {},
   "cell_type": "markdown",
   "metadata": {},
   "source": [
    "---\n",
    "### 3. Imputing\n",
    "\n",
    "Since the dataset is already complete we must remove some data first. \\\n",
    "Define method which removes between 10% and 40% of entries in 70% of columns, is seeded."
   ]
  },
  {
   "cell_type": "code",
   "execution_count": 12,
   "metadata": {},
   "outputs": [],
   "source": [
    "def remover(df):\n",
    "  remove_vals = df.copy();\n",
    "  num_columns = len(remove_vals.columns);\n",
    "  np.random.seed(SEED)\n",
    "  rem_columns = round(num_columns * 0.7, 0)\n",
    "  random_arr = []\n",
    "  count = 0\n",
    "\n",
    "  while count < rem_columns :\n",
    "    r = np.random.randint(1, num_columns - 1);\n",
    "    if r not in random_arr:\n",
    "      count += 1;\n",
    "      random_arr.append(r);\n",
    "\n",
    "  count = 0;\n",
    "  for column in remove_vals:\n",
    "    if count in random_arr:\n",
    "      random_perc = np.random.uniform(0.1, 0.4);\n",
    "      cur_mask = np.random.choice([True, False], size= len(remove_vals[column]), p=[random_perc, 1 - random_perc]);\n",
    "      remove_vals[column] = remove_vals[column].mask(cur_mask);\n",
    "    count += 1;\n",
    "      \n",
    "  return remove_vals"
   ]
  },
  {
   "attachments": {},
   "cell_type": "markdown",
   "metadata": {},
   "source": [
    "Apply to `X_train`"
   ]
  },
  {
   "cell_type": "code",
   "execution_count": 13,
   "metadata": {},
   "outputs": [
    {
     "data": {
      "text/html": [
       "<div>\n",
       "<style scoped>\n",
       "    .dataframe tbody tr th:only-of-type {\n",
       "        vertical-align: middle;\n",
       "    }\n",
       "\n",
       "    .dataframe tbody tr th {\n",
       "        vertical-align: top;\n",
       "    }\n",
       "\n",
       "    .dataframe thead th {\n",
       "        text-align: right;\n",
       "    }\n",
       "</style>\n",
       "<table border=\"1\" class=\"dataframe\">\n",
       "  <thead>\n",
       "    <tr style=\"text-align: right;\">\n",
       "      <th></th>\n",
       "      <th>Time</th>\n",
       "      <th>V1</th>\n",
       "      <th>V2</th>\n",
       "      <th>V3</th>\n",
       "      <th>V4</th>\n",
       "      <th>V5</th>\n",
       "      <th>V6</th>\n",
       "      <th>V7</th>\n",
       "      <th>V8</th>\n",
       "      <th>V9</th>\n",
       "      <th>V10</th>\n",
       "      <th>V11</th>\n",
       "      <th>V12</th>\n",
       "      <th>V13</th>\n",
       "      <th>V14</th>\n",
       "      <th>V15</th>\n",
       "      <th>V16</th>\n",
       "      <th>V17</th>\n",
       "      <th>V18</th>\n",
       "      <th>V19</th>\n",
       "      <th>V20</th>\n",
       "      <th>V21</th>\n",
       "      <th>V22</th>\n",
       "      <th>V23</th>\n",
       "      <th>V24</th>\n",
       "      <th>V25</th>\n",
       "      <th>V26</th>\n",
       "      <th>V27</th>\n",
       "      <th>V28</th>\n",
       "      <th>Amount</th>\n",
       "    </tr>\n",
       "    <tr>\n",
       "      <th>id</th>\n",
       "      <th></th>\n",
       "      <th></th>\n",
       "      <th></th>\n",
       "      <th></th>\n",
       "      <th></th>\n",
       "      <th></th>\n",
       "      <th></th>\n",
       "      <th></th>\n",
       "      <th></th>\n",
       "      <th></th>\n",
       "      <th></th>\n",
       "      <th></th>\n",
       "      <th></th>\n",
       "      <th></th>\n",
       "      <th></th>\n",
       "      <th></th>\n",
       "      <th></th>\n",
       "      <th></th>\n",
       "      <th></th>\n",
       "      <th></th>\n",
       "      <th></th>\n",
       "      <th></th>\n",
       "      <th></th>\n",
       "      <th></th>\n",
       "      <th></th>\n",
       "      <th></th>\n",
       "      <th></th>\n",
       "      <th></th>\n",
       "      <th></th>\n",
       "      <th></th>\n",
       "    </tr>\n",
       "  </thead>\n",
       "  <tbody>\n",
       "    <tr>\n",
       "      <th>0</th>\n",
       "      <td>0.0</td>\n",
       "      <td>2.074329</td>\n",
       "      <td>-0.129425</td>\n",
       "      <td>-1.137418</td>\n",
       "      <td>0.412846</td>\n",
       "      <td>-0.192638</td>\n",
       "      <td>-1.210144</td>\n",
       "      <td>0.110697</td>\n",
       "      <td>-0.263477</td>\n",
       "      <td>0.742144</td>\n",
       "      <td>0.108782</td>\n",
       "      <td>-1.070243</td>\n",
       "      <td>-0.234910</td>\n",
       "      <td>-1.099360</td>\n",
       "      <td>0.502467</td>\n",
       "      <td>0.169318</td>\n",
       "      <td>0.065688</td>\n",
       "      <td>-0.306957</td>\n",
       "      <td>-0.323800</td>\n",
       "      <td>0.103348</td>\n",
       "      <td>-0.292969</td>\n",
       "      <td>-0.334701</td>\n",
       "      <td>NaN</td>\n",
       "      <td>0.336701</td>\n",
       "      <td>-0.110835</td>\n",
       "      <td>NaN</td>\n",
       "      <td>0.207733</td>\n",
       "      <td>-0.076576</td>\n",
       "      <td>NaN</td>\n",
       "      <td>1.98</td>\n",
       "    </tr>\n",
       "    <tr>\n",
       "      <th>1</th>\n",
       "      <td>0.0</td>\n",
       "      <td>NaN</td>\n",
       "      <td>-1.250891</td>\n",
       "      <td>NaN</td>\n",
       "      <td>-0.894539</td>\n",
       "      <td>-1.122528</td>\n",
       "      <td>-0.270866</td>\n",
       "      <td>NaN</td>\n",
       "      <td>0.050198</td>\n",
       "      <td>-0.109948</td>\n",
       "      <td>0.908773</td>\n",
       "      <td>0.836798</td>\n",
       "      <td>NaN</td>\n",
       "      <td>-0.120990</td>\n",
       "      <td>-0.144028</td>\n",
       "      <td>-0.039582</td>\n",
       "      <td>1.653057</td>\n",
       "      <td>-0.253599</td>\n",
       "      <td>-0.814354</td>\n",
       "      <td>0.716784</td>\n",
       "      <td>0.065717</td>\n",
       "      <td>0.054848</td>\n",
       "      <td>NaN</td>\n",
       "      <td>NaN</td>\n",
       "      <td>-0.461928</td>\n",
       "      <td>-0.465491</td>\n",
       "      <td>-0.464655</td>\n",
       "      <td>NaN</td>\n",
       "      <td>-0.038238</td>\n",
       "      <td>84.00</td>\n",
       "    </tr>\n",
       "    <tr>\n",
       "      <th>2</th>\n",
       "      <td>0.0</td>\n",
       "      <td>0.091535</td>\n",
       "      <td>NaN</td>\n",
       "      <td>-0.223445</td>\n",
       "      <td>-0.435249</td>\n",
       "      <td>0.667548</td>\n",
       "      <td>-0.988351</td>\n",
       "      <td>0.948146</td>\n",
       "      <td>-0.084789</td>\n",
       "      <td>-0.042027</td>\n",
       "      <td>-0.818383</td>\n",
       "      <td>-0.376512</td>\n",
       "      <td>NaN</td>\n",
       "      <td>-0.552869</td>\n",
       "      <td>-0.886466</td>\n",
       "      <td>-0.180890</td>\n",
       "      <td>0.230286</td>\n",
       "      <td>0.590579</td>\n",
       "      <td>-0.321590</td>\n",
       "      <td>-0.433959</td>\n",
       "      <td>-0.021375</td>\n",
       "      <td>-0.326725</td>\n",
       "      <td>-0.803736</td>\n",
       "      <td>NaN</td>\n",
       "      <td>0.951233</td>\n",
       "      <td>-0.506919</td>\n",
       "      <td>NaN</td>\n",
       "      <td>0.224458</td>\n",
       "      <td>0.087356</td>\n",
       "      <td>2.69</td>\n",
       "    </tr>\n",
       "    <tr>\n",
       "      <th>3</th>\n",
       "      <td>0.0</td>\n",
       "      <td>1.979649</td>\n",
       "      <td>-0.184949</td>\n",
       "      <td>NaN</td>\n",
       "      <td>0.120125</td>\n",
       "      <td>-0.215238</td>\n",
       "      <td>-0.648829</td>\n",
       "      <td>-0.087826</td>\n",
       "      <td>-0.035367</td>\n",
       "      <td>0.885838</td>\n",
       "      <td>-0.007527</td>\n",
       "      <td>0.637441</td>\n",
       "      <td>0.676960</td>\n",
       "      <td>NaN</td>\n",
       "      <td>NaN</td>\n",
       "      <td>-0.824356</td>\n",
       "      <td>-0.527267</td>\n",
       "      <td>-0.095838</td>\n",
       "      <td>NaN</td>\n",
       "      <td>0.642659</td>\n",
       "      <td>-0.340089</td>\n",
       "      <td>-0.095514</td>\n",
       "      <td>NaN</td>\n",
       "      <td>NaN</td>\n",
       "      <td>-0.042939</td>\n",
       "      <td>NaN</td>\n",
       "      <td>-0.096148</td>\n",
       "      <td>-0.057780</td>\n",
       "      <td>NaN</td>\n",
       "      <td>1.00</td>\n",
       "    </tr>\n",
       "    <tr>\n",
       "      <th>4</th>\n",
       "      <td>0.0</td>\n",
       "      <td>1.025898</td>\n",
       "      <td>-0.171827</td>\n",
       "      <td>1.203717</td>\n",
       "      <td>1.243900</td>\n",
       "      <td>-0.636572</td>\n",
       "      <td>1.099074</td>\n",
       "      <td>-0.938651</td>\n",
       "      <td>NaN</td>\n",
       "      <td>0.692665</td>\n",
       "      <td>-0.097495</td>\n",
       "      <td>1.338869</td>\n",
       "      <td>1.391399</td>\n",
       "      <td>-0.128167</td>\n",
       "      <td>NaN</td>\n",
       "      <td>0.100548</td>\n",
       "      <td>-0.338937</td>\n",
       "      <td>0.090864</td>\n",
       "      <td>-0.423645</td>\n",
       "      <td>-0.731939</td>\n",
       "      <td>NaN</td>\n",
       "      <td>0.099157</td>\n",
       "      <td>0.608908</td>\n",
       "      <td>NaN</td>\n",
       "      <td>-0.262813</td>\n",
       "      <td>NaN</td>\n",
       "      <td>-0.252829</td>\n",
       "      <td>0.108338</td>\n",
       "      <td>NaN</td>\n",
       "      <td>1.00</td>\n",
       "    </tr>\n",
       "  </tbody>\n",
       "</table>\n",
       "</div>"
      ],
      "text/plain": [
       "    Time        V1        V2        V3        V4        V5        V6   \n",
       "id                                                                     \n",
       "0    0.0  2.074329 -0.129425 -1.137418  0.412846 -0.192638 -1.210144  \\\n",
       "1    0.0       NaN -1.250891       NaN -0.894539 -1.122528 -0.270866   \n",
       "2    0.0  0.091535       NaN -0.223445 -0.435249  0.667548 -0.988351   \n",
       "3    0.0  1.979649 -0.184949       NaN  0.120125 -0.215238 -0.648829   \n",
       "4    0.0  1.025898 -0.171827  1.203717  1.243900 -0.636572  1.099074   \n",
       "\n",
       "          V7        V8        V9       V10       V11       V12       V13   \n",
       "id                                                                         \n",
       "0   0.110697 -0.263477  0.742144  0.108782 -1.070243 -0.234910 -1.099360  \\\n",
       "1        NaN  0.050198 -0.109948  0.908773  0.836798       NaN -0.120990   \n",
       "2   0.948146 -0.084789 -0.042027 -0.818383 -0.376512       NaN -0.552869   \n",
       "3  -0.087826 -0.035367  0.885838 -0.007527  0.637441  0.676960       NaN   \n",
       "4  -0.938651       NaN  0.692665 -0.097495  1.338869  1.391399 -0.128167   \n",
       "\n",
       "         V14       V15       V16       V17       V18       V19       V20   \n",
       "id                                                                         \n",
       "0   0.502467  0.169318  0.065688 -0.306957 -0.323800  0.103348 -0.292969  \\\n",
       "1  -0.144028 -0.039582  1.653057 -0.253599 -0.814354  0.716784  0.065717   \n",
       "2  -0.886466 -0.180890  0.230286  0.590579 -0.321590 -0.433959 -0.021375   \n",
       "3        NaN -0.824356 -0.527267 -0.095838       NaN  0.642659 -0.340089   \n",
       "4        NaN  0.100548 -0.338937  0.090864 -0.423645 -0.731939       NaN   \n",
       "\n",
       "         V21       V22       V23       V24       V25       V26       V27   \n",
       "id                                                                         \n",
       "0  -0.334701       NaN  0.336701 -0.110835       NaN  0.207733 -0.076576  \\\n",
       "1   0.054848       NaN       NaN -0.461928 -0.465491 -0.464655       NaN   \n",
       "2  -0.326725 -0.803736       NaN  0.951233 -0.506919       NaN  0.224458   \n",
       "3  -0.095514       NaN       NaN -0.042939       NaN -0.096148 -0.057780   \n",
       "4   0.099157  0.608908       NaN -0.262813       NaN -0.252829  0.108338   \n",
       "\n",
       "         V28  Amount  \n",
       "id                    \n",
       "0        NaN    1.98  \n",
       "1  -0.038238   84.00  \n",
       "2   0.087356    2.69  \n",
       "3        NaN    1.00  \n",
       "4        NaN    1.00  "
      ]
     },
     "execution_count": 13,
     "metadata": {},
     "output_type": "execute_result"
    }
   ],
   "source": [
    "X_train_remover = remover(X_train)\n",
    "X_train_remover.head()"
   ]
  },
  {
   "attachments": {},
   "cell_type": "markdown",
   "metadata": {},
   "source": [
    "##### Imputation Methods\n",
    "Below are three different forms of imputation methods. For analysis of imputation ***SEE FILE***. The methods are as follows:\n",
    "- Imputation using the Class Mea\n",
    "- Imputation using an Iterative Imputer: Bayesian Ridge\n",
    "- Imputation using an Iterative Imputer: Random Forest Regression"
   ]
  },
  {
   "cell_type": "code",
   "execution_count": 14,
   "metadata": {},
   "outputs": [],
   "source": [
    "#all imports needed for the imputation.\n",
    "from sklearn.pipeline import Pipeline\n",
    "from sklearn.preprocessing import StandardScaler\n",
    "from sklearn.preprocessing import FunctionTransformer\n",
    "from sklearn.impute import SimpleImputer\n",
    "from sklearn.experimental import enable_iterative_imputer\n",
    "from sklearn.impute import IterativeImputer\n",
    "from sklearn.experimental import enable_iterative_imputer\n",
    "from sklearn.impute import IterativeImputer\n",
    "from sklearn.ensemble import RandomForestRegressor"
   ]
  },
  {
   "cell_type": "code",
   "execution_count": 15,
   "metadata": {},
   "outputs": [],
   "source": [
    "#METHOD TO IMPUTE DATA USING CLASS MEAN\n",
    "def class_mean_imputer(df):\n",
    "    # compute the mean for each feature and class label\n",
    "    class_labels = df['Class']\n",
    "    class_means = []\n",
    "    for label in np.unique(class_labels):\n",
    "        class_means.append(df[class_labels == label].mean())\n",
    "\n",
    "    # impute missing values using class means\n",
    "    df_class_mean_imputed = SimpleImputer(strategy='mean').fit_transform(df)\n",
    "    for i in range(len(df)):\n",
    "        for j in range(len(df.columns)):\n",
    "            if np.isnan(df_class_mean_imputed[i, j]):\n",
    "                df_class_mean_imputed[i, j] = class_means[class_labels[i]][j]\n",
    "\n",
    "    class_mean_imputed = pd.DataFrame(df_class_mean_imputed, index = df.index, columns=df.columns)\n",
    "    return class_mean_imputed"
   ]
  },
  {
   "cell_type": "code",
   "execution_count": 16,
   "metadata": {},
   "outputs": [],
   "source": [
    "#METHOD TO IMPUTE DATA USING BAYESIAN RIDGE II\n",
    "def bayesian_ridge_imputer(df):\n",
    "    pipeline = Pipeline([('imputer', IterativeImputer(max_iter=20, random_state=0))]) # decide on best parameters?\n",
    "    df_II_imputed = pd.DataFrame(pipeline.fit_transform(df), columns = df.columns)\n",
    "    return df_II_imputed\n"
   ]
  },
  {
   "cell_type": "code",
   "execution_count": 17,
   "metadata": {},
   "outputs": [],
   "source": [
    "#METHOD TO IMPUTE DATA USING RANDOM FOREST REGRESSION II\n",
    "def rForest_imputer(df):\n",
    "\n",
    "    rf_regressor = RandomForestRegressor(n_estimators=4, max_depth=10, bootstrap=True, \n",
    "                                            max_samples=0.5, n_jobs=2, random_state=0) # tuned hyperparameters\n",
    "    pipeline = Pipeline([('imputer', IterativeImputer(estimator=rf_regressor, \n",
    "                              missing_values=np.nan, \n",
    "                              random_state=123))]) \n",
    "    df_II_imputed = pd.DataFrame(pipeline.fit_transform(df), columns = df.columns)\n",
    "    return df_II_imputed\n"
   ]
  },
  {
   "attachments": {},
   "cell_type": "markdown",
   "metadata": {},
   "source": [
    "- use random forest iterative imputer to impute data from the removed set"
   ]
  },
  {
   "cell_type": "code",
   "execution_count": 18,
   "metadata": {},
   "outputs": [],
   "source": [
    "X_train_imputed = rForest_imputer(X_train_remover)"
   ]
  },
  {
   "attachments": {},
   "cell_type": "markdown",
   "metadata": {},
   "source": [
    "---\n",
    "### 4. Present models\n",
    "We trained on basic models before trying to improve results using different methods such as ADA boosting and SMOTE balancing."
   ]
  },
  {
   "attachments": {},
   "cell_type": "markdown",
   "metadata": {},
   "source": [
    "#### 4.1. Decision Tree\n"
   ]
  },
  {
   "attachments": {},
   "cell_type": "markdown",
   "metadata": {},
   "source": [
    "Using cross validation to find best params for model. \n",
    "- `criterion` is being cross validated to find the best splitting method.\n",
    "- `min_samples_leaf` has been set to 100 to stop overfitting.\n",
    "- `max_depth` is being cross validated to see if capping the depth stops overfitting."
   ]
  },
  {
   "cell_type": "code",
   "execution_count": 19,
   "metadata": {},
   "outputs": [
    {
     "data": {
      "text/html": [
       "<style>#sk-container-id-1 {color: black;background-color: white;}#sk-container-id-1 pre{padding: 0;}#sk-container-id-1 div.sk-toggleable {background-color: white;}#sk-container-id-1 label.sk-toggleable__label {cursor: pointer;display: block;width: 100%;margin-bottom: 0;padding: 0.3em;box-sizing: border-box;text-align: center;}#sk-container-id-1 label.sk-toggleable__label-arrow:before {content: \"▸\";float: left;margin-right: 0.25em;color: #696969;}#sk-container-id-1 label.sk-toggleable__label-arrow:hover:before {color: black;}#sk-container-id-1 div.sk-estimator:hover label.sk-toggleable__label-arrow:before {color: black;}#sk-container-id-1 div.sk-toggleable__content {max-height: 0;max-width: 0;overflow: hidden;text-align: left;background-color: #f0f8ff;}#sk-container-id-1 div.sk-toggleable__content pre {margin: 0.2em;color: black;border-radius: 0.25em;background-color: #f0f8ff;}#sk-container-id-1 input.sk-toggleable__control:checked~div.sk-toggleable__content {max-height: 200px;max-width: 100%;overflow: auto;}#sk-container-id-1 input.sk-toggleable__control:checked~label.sk-toggleable__label-arrow:before {content: \"▾\";}#sk-container-id-1 div.sk-estimator input.sk-toggleable__control:checked~label.sk-toggleable__label {background-color: #d4ebff;}#sk-container-id-1 div.sk-label input.sk-toggleable__control:checked~label.sk-toggleable__label {background-color: #d4ebff;}#sk-container-id-1 input.sk-hidden--visually {border: 0;clip: rect(1px 1px 1px 1px);clip: rect(1px, 1px, 1px, 1px);height: 1px;margin: -1px;overflow: hidden;padding: 0;position: absolute;width: 1px;}#sk-container-id-1 div.sk-estimator {font-family: monospace;background-color: #f0f8ff;border: 1px dotted black;border-radius: 0.25em;box-sizing: border-box;margin-bottom: 0.5em;}#sk-container-id-1 div.sk-estimator:hover {background-color: #d4ebff;}#sk-container-id-1 div.sk-parallel-item::after {content: \"\";width: 100%;border-bottom: 1px solid gray;flex-grow: 1;}#sk-container-id-1 div.sk-label:hover label.sk-toggleable__label {background-color: #d4ebff;}#sk-container-id-1 div.sk-serial::before {content: \"\";position: absolute;border-left: 1px solid gray;box-sizing: border-box;top: 0;bottom: 0;left: 50%;z-index: 0;}#sk-container-id-1 div.sk-serial {display: flex;flex-direction: column;align-items: center;background-color: white;padding-right: 0.2em;padding-left: 0.2em;position: relative;}#sk-container-id-1 div.sk-item {position: relative;z-index: 1;}#sk-container-id-1 div.sk-parallel {display: flex;align-items: stretch;justify-content: center;background-color: white;position: relative;}#sk-container-id-1 div.sk-item::before, #sk-container-id-1 div.sk-parallel-item::before {content: \"\";position: absolute;border-left: 1px solid gray;box-sizing: border-box;top: 0;bottom: 0;left: 50%;z-index: -1;}#sk-container-id-1 div.sk-parallel-item {display: flex;flex-direction: column;z-index: 1;position: relative;background-color: white;}#sk-container-id-1 div.sk-parallel-item:first-child::after {align-self: flex-end;width: 50%;}#sk-container-id-1 div.sk-parallel-item:last-child::after {align-self: flex-start;width: 50%;}#sk-container-id-1 div.sk-parallel-item:only-child::after {width: 0;}#sk-container-id-1 div.sk-dashed-wrapped {border: 1px dashed gray;margin: 0 0.4em 0.5em 0.4em;box-sizing: border-box;padding-bottom: 0.4em;background-color: white;}#sk-container-id-1 div.sk-label label {font-family: monospace;font-weight: bold;display: inline-block;line-height: 1.2em;}#sk-container-id-1 div.sk-label-container {text-align: center;}#sk-container-id-1 div.sk-container {/* jupyter's `normalize.less` sets `[hidden] { display: none; }` but bootstrap.min.css set `[hidden] { display: none !important; }` so we also need the `!important` here to be able to override the default hidden behavior on the sphinx rendered scikit-learn.org. See: https://github.com/scikit-learn/scikit-learn/issues/21755 */display: inline-block !important;position: relative;}#sk-container-id-1 div.sk-text-repr-fallback {display: none;}</style><div id=\"sk-container-id-1\" class=\"sk-top-container\"><div class=\"sk-text-repr-fallback\"><pre>DecisionTreeClassifier(max_depth=25, min_samples_leaf=100)</pre><b>In a Jupyter environment, please rerun this cell to show the HTML representation or trust the notebook. <br />On GitHub, the HTML representation is unable to render, please try loading this page with nbviewer.org.</b></div><div class=\"sk-container\" hidden><div class=\"sk-item\"><div class=\"sk-estimator sk-toggleable\"><input class=\"sk-toggleable__control sk-hidden--visually\" id=\"sk-estimator-id-1\" type=\"checkbox\" checked><label for=\"sk-estimator-id-1\" class=\"sk-toggleable__label sk-toggleable__label-arrow\">DecisionTreeClassifier</label><div class=\"sk-toggleable__content\"><pre>DecisionTreeClassifier(max_depth=25, min_samples_leaf=100)</pre></div></div></div></div></div>"
      ],
      "text/plain": [
       "DecisionTreeClassifier(max_depth=25, min_samples_leaf=100)"
      ]
     },
     "execution_count": 19,
     "metadata": {},
     "output_type": "execute_result"
    }
   ],
   "source": [
    "params = { \n",
    "           'criterion':        ['gini', 'entropy'], \n",
    "           'min_samples_leaf': [100],\n",
    "           'max_depth':        [25, None]\n",
    "         }\n",
    "\n",
    "tree1 = GridSearchCV(tree.DecisionTreeClassifier(), params, cv=2)\n",
    "tree_train = tree1.fit(X_train, y_train)\n",
    "tree_best_params = tree_train.best_estimator_\n",
    "tree_best_params"
   ]
  },
  {
   "attachments": {},
   "cell_type": "markdown",
   "metadata": {},
   "source": [
    "Can use CV results to predict fruad probabilities on entries in the test set (and export to csv)"
   ]
  },
  {
   "cell_type": "code",
   "execution_count": 20,
   "metadata": {},
   "outputs": [],
   "source": [
    "tree_train_predictions= tree_best_params.predict_proba(test)\n",
    "\n",
    "# Create a new DataFrame with 'id' and 'predicted' columns and export to csv .\n",
    "tree_train_results = output_func(tree_train_predictions)\n",
    "export_func(tree_train_results, 'tree_train_results.csv')"
   ]
  },
  {
   "cell_type": "code",
   "execution_count": 21,
   "metadata": {},
   "outputs": [],
   "source": [
    "# let's also fit to the imputed training data using the best paramters selected above\n",
    "tree2 = DecisionTreeClassifier(max_depth=25, min_samples_leaf=100)\n",
    "tree_imputed = tree2.fit(X_train_imputed, y_train)"
   ]
  },
  {
   "attachments": {},
   "cell_type": "markdown",
   "metadata": {},
   "source": [
    "## Cross Validation Score\n",
    "Compute a cross validation score using Area under the Reciver-Operator Curve (roc-auc) scoring"
   ]
  },
  {
   "cell_type": "code",
   "execution_count": 22,
   "metadata": {},
   "outputs": [],
   "source": [
    "# set maximum number of folds\n",
    "num_folds = 5\n",
    "\n",
    "# create stratified k-fold object\n",
    "strat_kfold = StratifiedKFold(n_splits= num_folds, shuffle=True, random_state = SEED)"
   ]
  },
  {
   "cell_type": "code",
   "execution_count": 23,
   "metadata": {},
   "outputs": [],
   "source": [
    "# do stratfied cv on train set \n",
    "tree_train_cv = cross_val_score(tree_train, X_train, y_train, cv=strat_kfold, scoring='roc_auc')\n",
    "\n",
    "# do stratfied cv on imputed set \n",
    "tree_imputed_cv = cross_val_score(tree_train, X_train_imputed, y_train, cv=strat_kfold, scoring='roc_auc')"
   ]
  },
  {
   "cell_type": "code",
   "execution_count": 24,
   "metadata": {},
   "outputs": [
    {
     "data": {
      "text/html": [
       "<div>\n",
       "<style scoped>\n",
       "    .dataframe tbody tr th:only-of-type {\n",
       "        vertical-align: middle;\n",
       "    }\n",
       "\n",
       "    .dataframe tbody tr th {\n",
       "        vertical-align: top;\n",
       "    }\n",
       "\n",
       "    .dataframe thead th {\n",
       "        text-align: right;\n",
       "    }\n",
       "</style>\n",
       "<table border=\"1\" class=\"dataframe\">\n",
       "  <thead>\n",
       "    <tr style=\"text-align: right;\">\n",
       "      <th></th>\n",
       "      <th>Original</th>\n",
       "      <th>Imputed</th>\n",
       "    </tr>\n",
       "  </thead>\n",
       "  <tbody>\n",
       "    <tr>\n",
       "      <th>Decision Tree</th>\n",
       "      <td>0.6331</td>\n",
       "      <td>0.626076</td>\n",
       "    </tr>\n",
       "  </tbody>\n",
       "</table>\n",
       "</div>"
      ],
      "text/plain": [
       "               Original   Imputed\n",
       "Decision Tree    0.6331  0.626076"
      ]
     },
     "metadata": {},
     "output_type": "display_data"
    }
   ],
   "source": [
    "# compute the mean score\n",
    "tree_meanCV = tree_train_cv.mean()\n",
    "tree_imputed_meanCV = tree_imputed_cv.mean()\n",
    "\n",
    "# save CV scores for comparison\n",
    "tree_cv_comp = pd.DataFrame({'Original': [tree_meanCV], 'Imputed': [tree_imputed_meanCV]}, index=['Decision Tree'])\n",
    "\n",
    "display(tree_cv_comp)"
   ]
  },
  {
   "attachments": {},
   "cell_type": "markdown",
   "metadata": {},
   "source": [
    "#### 4.2. Decision Tree with ADA Boosting\n",
    "After limiting `max_depth` and `min_samples_leaf` the Decision Tree performs pretty well. \\\n",
    "Lets try an alternative method for implementing a Decision Tree by creating a stump and using that with an ADA Boost Classifier to see if that performs better."
   ]
  },
  {
   "attachments": {},
   "cell_type": "markdown",
   "metadata": {},
   "source": [
    "Steps:\n",
    "- Create a simple decision tree fitted with the trianing data \n",
    "- The decision tree can be passed into the ADA boost classifier \n",
    "- The parameters in ADA boost have been calculated through using GridSearch and cross validation "
   ]
  },
  {
   "cell_type": "code",
   "execution_count": 25,
   "metadata": {},
   "outputs": [],
   "source": [
    "decision_tree_simple = DecisionTreeClassifier(max_depth = 1, random_state = SEED);\n",
    "decision_tree_simple.fit(X_train, y_train)\n",
    "\n",
    "ada_final = AdaBoostClassifier(decision_tree_simple, n_estimators = 150, algorithm = \"SAMME.R\", learning_rate = 0.1, random_state = SEED);\n",
    "ada_train = ada_final.fit(X_train, y_train)"
   ]
  },
  {
   "cell_type": "code",
   "execution_count": 26,
   "metadata": {},
   "outputs": [],
   "source": [
    "# fit to the imputed data\n",
    "decision_tree_simple2 = DecisionTreeClassifier(max_depth = 1, random_state = SEED);\n",
    "decision_tree_simple2.fit(X_train_imputed, y_train)\n",
    "\n",
    "ada2 = AdaBoostClassifier(decision_tree_simple2, n_estimators = 150, algorithm = \"SAMME.R\", learning_rate = 0.1, random_state = SEED);\n",
    "ada_imputed = ada2.fit(X_train_imputed, y_train)"
   ]
  },
  {
   "attachments": {},
   "cell_type": "markdown",
   "metadata": {},
   "source": [
    "Get the probabilities that each item is fraudulent by using `predict_proba` \\\n",
    "Probabilities are then put into a new dataframe which is formatted for Kaggle"
   ]
  },
  {
   "cell_type": "code",
   "execution_count": 27,
   "metadata": {},
   "outputs": [],
   "source": [
    "ada_predictions = ada_train.predict_proba(test)\n",
    "\n",
    "# Create a new DataFrame with 'id' and 'predicted' columns and export to csv.\n",
    "ada_results = output_func(ada_predictions)\n",
    "export_func(ada_results, 'ada_results.csv')"
   ]
  },
  {
   "attachments": {},
   "cell_type": "markdown",
   "metadata": {},
   "source": [
    "## Cross Validation"
   ]
  },
  {
   "cell_type": "code",
   "execution_count": 28,
   "metadata": {},
   "outputs": [],
   "source": [
    "# perform cross validation\n",
    "\n",
    "num_folds = 5\n",
    "\n",
    "# create stratfied k-fold object\n",
    "strat_kfold = StratifiedKFold(n_splits = num_folds, shuffle=True, random_state=SEED)\n",
    "\n",
    "# do stratified k fold on original train\n",
    "ada_cv = cross_val_score(ada_train, X_train, y_train, cv = strat_kfold, scoring='roc_auc')\n",
    "\n",
    "# do stratified k fold on imputed data\n",
    "ada_imputed_cv = cross_val_score(ada_imputed, X_train_imputed, y_train, cv = strat_kfold, scoring='roc_auc')\n",
    "\n",
    "ada_meanCV = ada_cv.mean()\n",
    "ada_imputed_meanCV = ada_imputed_cv.mean()"
   ]
  },
  {
   "cell_type": "code",
   "execution_count": 29,
   "metadata": {},
   "outputs": [
    {
     "data": {
      "text/html": [
       "<div>\n",
       "<style scoped>\n",
       "    .dataframe tbody tr th:only-of-type {\n",
       "        vertical-align: middle;\n",
       "    }\n",
       "\n",
       "    .dataframe tbody tr th {\n",
       "        vertical-align: top;\n",
       "    }\n",
       "\n",
       "    .dataframe thead th {\n",
       "        text-align: right;\n",
       "    }\n",
       "</style>\n",
       "<table border=\"1\" class=\"dataframe\">\n",
       "  <thead>\n",
       "    <tr style=\"text-align: right;\">\n",
       "      <th></th>\n",
       "      <th>Original</th>\n",
       "      <th>Imputed</th>\n",
       "    </tr>\n",
       "  </thead>\n",
       "  <tbody>\n",
       "    <tr>\n",
       "      <th>Ada Boost</th>\n",
       "      <td>0.81734</td>\n",
       "      <td>0.811206</td>\n",
       "    </tr>\n",
       "  </tbody>\n",
       "</table>\n",
       "</div>"
      ],
      "text/plain": [
       "           Original   Imputed\n",
       "Ada Boost   0.81734  0.811206"
      ]
     },
     "metadata": {},
     "output_type": "display_data"
    }
   ],
   "source": [
    "# store results for comparison \n",
    "# save CV scores for comparison\n",
    "ada_cv_comp = pd.DataFrame({'Original': [ada_meanCV], 'Imputed': [ada_imputed_meanCV]}, index=['Ada Boost'])\n",
    "\n",
    "display(ada_cv_comp)"
   ]
  },
  {
   "attachments": {},
   "cell_type": "markdown",
   "metadata": {},
   "source": [
    "#### 4.3. Logistic Regression\n",
    "Logisitic regression requires centered and scaled data."
   ]
  },
  {
   "cell_type": "code",
   "execution_count": 30,
   "metadata": {},
   "outputs": [],
   "source": [
    "# Scale the training data\n",
    "scaler_train = StandardScaler()\n",
    "X_train_scaled = scaler_train.fit_transform(X_train)\n",
    "\n",
    "# Scale the imputed data \n",
    "X_train_imputed_scaled = scaler_train.fit_transform(X_train_imputed)"
   ]
  },
  {
   "cell_type": "code",
   "execution_count": 31,
   "metadata": {},
   "outputs": [],
   "source": [
    "# Create logisitic regression object and fit on scaled train\n",
    "logi_mod1 = LogisticRegression(random_state=SEED)\n",
    "logi_train = logi_mod1.fit(X_train_scaled, y_train)\n",
    "\n",
    "# Do stratified k fold on original train\n",
    "strat_kfold = StratifiedKFold(n_splits = 5, shuffle=True, random_state=SEED)\n",
    "logi_train_cv = cross_val_score(logi_train, X_train_scaled, y_train, cv = strat_kfold, scoring='roc_auc')\n",
    "\n",
    "logi_train_meanCV = logi_train_cv.mean()"
   ]
  },
  {
   "cell_type": "code",
   "execution_count": 32,
   "metadata": {},
   "outputs": [],
   "source": [
    "# Create logisitic regression object and fit on scaled imputed data\n",
    "logi_mod2 = LogisticRegression(random_state=SEED)\n",
    "logi_imputed = logi_mod2.fit(X_train_imputed_scaled, y_train)\n",
    "\n",
    "# Do stratified k fold on original train\n",
    "strat_kfold = StratifiedKFold(n_splits = 5, shuffle=True, random_state=SEED)\n",
    "logi_imputed_cv = cross_val_score(logi_imputed, X_train_imputed_scaled, y_train, cv = strat_kfold, scoring='roc_auc')\n",
    "\n",
    "logi_imputed_meanCV = logi_imputed_cv.mean()"
   ]
  },
  {
   "cell_type": "code",
   "execution_count": 33,
   "metadata": {},
   "outputs": [
    {
     "data": {
      "text/html": [
       "<div>\n",
       "<style scoped>\n",
       "    .dataframe tbody tr th:only-of-type {\n",
       "        vertical-align: middle;\n",
       "    }\n",
       "\n",
       "    .dataframe tbody tr th {\n",
       "        vertical-align: top;\n",
       "    }\n",
       "\n",
       "    .dataframe thead th {\n",
       "        text-align: right;\n",
       "    }\n",
       "</style>\n",
       "<table border=\"1\" class=\"dataframe\">\n",
       "  <thead>\n",
       "    <tr style=\"text-align: right;\">\n",
       "      <th></th>\n",
       "      <th>Original</th>\n",
       "      <th>Imputed</th>\n",
       "    </tr>\n",
       "  </thead>\n",
       "  <tbody>\n",
       "    <tr>\n",
       "      <th>Logistic</th>\n",
       "      <td>0.792744</td>\n",
       "      <td>0.7862</td>\n",
       "    </tr>\n",
       "  </tbody>\n",
       "</table>\n",
       "</div>"
      ],
      "text/plain": [
       "          Original  Imputed\n",
       "Logistic  0.792744   0.7862"
      ]
     },
     "metadata": {},
     "output_type": "display_data"
    }
   ],
   "source": [
    "logi_cv_comp = pd.DataFrame({'Original': [logi_train_meanCV], 'Imputed': [logi_imputed_meanCV]}, index= ['Logistic'])\n",
    "display(logi_cv_comp)"
   ]
  },
  {
   "cell_type": "code",
   "execution_count": 34,
   "metadata": {},
   "outputs": [],
   "source": [
    "# Scale the test data\n",
    "X_test_scaled = scaler_train.transform(test)\n",
    "\n",
    "# Predict on test\n",
    "predicted_logi_train = logi_train.predict_proba(X_test_scaled)\n",
    "\n",
    "# Export to csv for output to kaggle\n",
    "logi_train_kaggle = output_func(predicted_logi_train)\n",
    "export_func(logi_train_kaggle, 'logi_train_kaggle.csv')"
   ]
  },
  {
   "attachments": {},
   "cell_type": "markdown",
   "metadata": {},
   "source": [
    "#### 4.4. Logistic Regression with Elastic Net"
   ]
  },
  {
   "cell_type": "code",
   "execution_count": 35,
   "metadata": {},
   "outputs": [],
   "source": [
    "# Scale the training data\n",
    "scaler_elastic = StandardScaler()\n",
    "X_elastic_scaled = scaler_elastic.fit_transform(X_train)"
   ]
  },
  {
   "cell_type": "code",
   "execution_count": 55,
   "metadata": {},
   "outputs": [],
   "source": [
    "\n",
    "# define logisitc regressor with elastic net\n",
    "logi_elastic_train = LogisticRegression(C = 0.1, l1_ratio= 0.9, penalty='elasticnet', solver='saga', max_iter=500)\n",
    "logi_elastic = logi_elastic_train.fit(X_elastic_scaled, y_train)\n",
    "\n"
   ]
  },
  {
   "cell_type": "code",
   "execution_count": 37,
   "metadata": {},
   "outputs": [],
   "source": [
    "# Train the best model\n",
    "#logi_elastic_train = LogisticRegression(penalty='elasticnet', solver='saga', max_iter=1000, **best_params)\n",
    "#logi_elastic = logi_elastic_train.fit(X_elastic_scaled, y_train)"
   ]
  },
  {
   "cell_type": "code",
   "execution_count": null,
   "metadata": {},
   "outputs": [],
   "source": [
    "# Train the best model on the imputed data\n",
    "logi_elastic_train2 = LogisticRegression(penalty='elasticnet', solver='saga', max_iter=500, C = 0.1, l1_ratio= 0.9)\n",
    "logi_elastic_imputed = logi_elastic_train2.fit(X_train_imputed_scaled, y_train)"
   ]
  },
  {
   "attachments": {},
   "cell_type": "markdown",
   "metadata": {},
   "source": [
    "#### Cross Validation"
   ]
  },
  {
   "cell_type": "code",
   "execution_count": 56,
   "metadata": {},
   "outputs": [],
   "source": [
    "# perform cross validation on train set\n",
    "\n",
    "num_folds = 5\n",
    "\n",
    "# create stratfied k-fold object\n",
    "strat_kfold = StratifiedKFold(n_splits = num_folds, shuffle=True, random_state=SEED)\n",
    "logi_elastic_cv = cross_val_score(logi_elastic, X_elastic_scaled, y_train, cv = strat_kfold, scoring = 'roc_auc')\n",
    "\n",
    "\n",
    "logi_elastic_meanCV = logi_elastic_cv.mean()"
   ]
  },
  {
   "cell_type": "code",
   "execution_count": 57,
   "metadata": {},
   "outputs": [],
   "source": [
    "# perform cross validation on imputed set\n",
    "\n",
    "num_folds = 5\n",
    "\n",
    "# create stratfied k-fold object\n",
    "strat_kfold = StratifiedKFold(n_splits = num_folds, shuffle=True, random_state=SEED)\n",
    "logi_elastic_imputed_cv = cross_val_score(logi_elastic_imputed, X_train_imputed_scaled, y_train, cv = strat_kfold, scoring = 'roc_auc')\n",
    "\n",
    "\n",
    "logi_elastic_imputed_meanCV = logi_elastic_imputed_cv.mean()"
   ]
  },
  {
   "cell_type": "code",
   "execution_count": 58,
   "metadata": {},
   "outputs": [
    {
     "data": {
      "text/html": [
       "<div>\n",
       "<style scoped>\n",
       "    .dataframe tbody tr th:only-of-type {\n",
       "        vertical-align: middle;\n",
       "    }\n",
       "\n",
       "    .dataframe tbody tr th {\n",
       "        vertical-align: top;\n",
       "    }\n",
       "\n",
       "    .dataframe thead th {\n",
       "        text-align: right;\n",
       "    }\n",
       "</style>\n",
       "<table border=\"1\" class=\"dataframe\">\n",
       "  <thead>\n",
       "    <tr style=\"text-align: right;\">\n",
       "      <th></th>\n",
       "      <th>Original</th>\n",
       "      <th>Imputed</th>\n",
       "    </tr>\n",
       "  </thead>\n",
       "  <tbody>\n",
       "    <tr>\n",
       "      <th>Logistic (Elastic)</th>\n",
       "      <td>0.793202</td>\n",
       "      <td>0.786266</td>\n",
       "    </tr>\n",
       "  </tbody>\n",
       "</table>\n",
       "</div>"
      ],
      "text/plain": [
       "                    Original   Imputed\n",
       "Logistic (Elastic)  0.793202  0.786266"
      ]
     },
     "metadata": {},
     "output_type": "display_data"
    }
   ],
   "source": [
    "logi_elastic_cv_comp = pd.DataFrame({'Original': [logi_elastic_meanCV], 'Imputed': [logi_elastic_imputed_meanCV]}, index= ['Logistic (Elastic)'])\n",
    "display(logi_elastic_cv_comp)"
   ]
  },
  {
   "cell_type": "code",
   "execution_count": 59,
   "metadata": {},
   "outputs": [],
   "source": [
    "# fit to the test data and export for kaggle marking\n",
    "X_test_elastic_scaled = scaler_elastic.transform(test)\n",
    "\n",
    "# Predict on elastic test\n",
    "predicted_logi_elastic = logi_elastic.predict_proba(X_test_elastic_scaled)\n",
    "\n",
    "# Export to CSV\n",
    "logi_elastic_kaggle = output_func(predicted_logi_elastic)\n",
    "export_func(logi_elastic_kaggle, 'logi_elastic_kaggle.csv')"
   ]
  },
  {
   "attachments": {},
   "cell_type": "markdown",
   "metadata": {},
   "source": [
    "#### 4.5. Logistic Regression with SMOTE balancing\n",
    "Following the same structure as normal logistic regression, but first we must use SMOTE on the training dataset to oversample fraudulant entries, then balance with an under sampler to balance distribution."
   ]
  },
  {
   "cell_type": "code",
   "execution_count": 43,
   "metadata": {},
   "outputs": [],
   "source": [
    "# apply SMOTE to oversample the minority class on the original data\n",
    "smote = SMOTE(sampling_strategy='minority')\n",
    "X_train_SMOTE, y_train_SMOTE = smote.fit_resample(X_train, y_train)\n",
    "\n",
    "# apply random undersampling to balance the class distribution\n",
    "rus = RandomUnderSampler(sampling_strategy='majority')\n",
    "X_train_SMOTE, y_train_SMOTE = rus.fit_resample(X_train_SMOTE, y_train_SMOTE)"
   ]
  },
  {
   "cell_type": "code",
   "execution_count": 44,
   "metadata": {},
   "outputs": [
    {
     "name": "stdout",
     "output_type": "stream",
     "text": [
      "new fraud 218660 \n",
      "total entries 437320 \n",
      "new fraud rate 50.0 %\n"
     ]
    }
   ],
   "source": [
    "# lets just check how much of our resampled set is fraudulent\n",
    "fraud_bal = y_train_SMOTE.sum()\n",
    "fraud_percent_bal = fraud_bal / len(y_train_SMOTE) * 100\n",
    "\n",
    "print('new fraud', fraud_bal, '\\ntotal entries', len(y_train_SMOTE), '\\nnew fraud rate', fraud_percent_bal, '%')"
   ]
  },
  {
   "cell_type": "code",
   "execution_count": 45,
   "metadata": {},
   "outputs": [],
   "source": [
    "# apply SMOTE to oversample the minority class on the imputed data\n",
    "smote = SMOTE(sampling_strategy='minority')\n",
    "X_imputed_SMOTE, y_imputed_SMOTE = smote.fit_resample(X_train_imputed, y_train)\n",
    "\n",
    "# apply random undersampling to balance the class distribution\n",
    "rus = RandomUnderSampler(sampling_strategy='majority')\n",
    "X_imputed_SMOTE, y_imputed_SMOTE = rus.fit_resample(X_imputed_SMOTE, y_imputed_SMOTE)"
   ]
  },
  {
   "attachments": {},
   "cell_type": "markdown",
   "metadata": {},
   "source": [
    "Now proceed the same as a regular logistic regression but with the new SMOTE datasets."
   ]
  },
  {
   "cell_type": "code",
   "execution_count": 46,
   "metadata": {},
   "outputs": [],
   "source": [
    "# Scale the training data\n",
    "scaler_SMOTE = StandardScaler()\n",
    "X_SMOTE_scaled = scaler_SMOTE.fit_transform(X_train_SMOTE)\n",
    "\n",
    "scaler_imputed_SMOTE = StandardScaler()\n",
    "X_SMOTE_imputed_scaled = scaler_SMOTE.fit_transform(X_imputed_SMOTE)"
   ]
  },
  {
   "cell_type": "code",
   "execution_count": 47,
   "metadata": {},
   "outputs": [],
   "source": [
    "# Create logistic regression object and fit on scaled SMOTE train\n",
    "logi_mod2 = LogisticRegression(random_state=SEED)\n",
    "logi_SMOTE = logi_mod2.fit(X_SMOTE_scaled, y_train_SMOTE)\n",
    "\n",
    "# Do stratified k fold on SMOTE train\n",
    "strat_kfold = StratifiedKFold(n_splits = 5, shuffle=True, random_state=SEED)\n",
    "logi_SMOTE_cv = cross_val_score(logi_SMOTE, X_SMOTE_scaled, y_train_SMOTE, cv = strat_kfold, scoring='roc_auc')\n",
    "\n",
    "logi_SMOTE_meanCV = logi_SMOTE_cv.mean()"
   ]
  },
  {
   "cell_type": "code",
   "execution_count": 48,
   "metadata": {},
   "outputs": [],
   "source": [
    "X_test_SMOTE_scaled = scaler_SMOTE.transform(test)\n",
    "\n",
    "# Predict on SMOTE test\n",
    "predicted_logi_SMOTE = logi_SMOTE.predict_proba(X_test_SMOTE_scaled)\n",
    "\n",
    "# Export to CSV\n",
    "logi_SMOTE_kaggle = output_func(predicted_logi_SMOTE)\n",
    "export_func(logi_SMOTE_kaggle, 'logi_SMOTE_kaggle.csv')"
   ]
  },
  {
   "cell_type": "code",
   "execution_count": 49,
   "metadata": {},
   "outputs": [],
   "source": [
    "# Create logistic regression object and fit on scaled SMOTE imputed data\n",
    "logi_mod2 = LogisticRegression(random_state=SEED)\n",
    "logi_SMOTE_imputed = logi_mod2.fit(X_SMOTE_scaled, y_train_SMOTE)\n",
    "\n",
    "# Do stratified k fold on SMOTE train\n",
    "strat_kfold = StratifiedKFold(n_splits = 5, shuffle=True, random_state=SEED)\n",
    "logi_SMOTE_imputed_cv = cross_val_score(logi_SMOTE_imputed, X_SMOTE_imputed_scaled, y_train_SMOTE, cv = strat_kfold, scoring='roc_auc')\n",
    "\n",
    "logi_SMOTE_imputed_meanCV = logi_SMOTE_cv.mean()"
   ]
  },
  {
   "cell_type": "code",
   "execution_count": 50,
   "metadata": {},
   "outputs": [
    {
     "data": {
      "text/html": [
       "<div>\n",
       "<style scoped>\n",
       "    .dataframe tbody tr th:only-of-type {\n",
       "        vertical-align: middle;\n",
       "    }\n",
       "\n",
       "    .dataframe tbody tr th {\n",
       "        vertical-align: top;\n",
       "    }\n",
       "\n",
       "    .dataframe thead th {\n",
       "        text-align: right;\n",
       "    }\n",
       "</style>\n",
       "<table border=\"1\" class=\"dataframe\">\n",
       "  <thead>\n",
       "    <tr style=\"text-align: right;\">\n",
       "      <th></th>\n",
       "      <th>Original</th>\n",
       "      <th>Imputed</th>\n",
       "    </tr>\n",
       "  </thead>\n",
       "  <tbody>\n",
       "    <tr>\n",
       "      <th>Logistic (SMOTE)</th>\n",
       "      <td>0.867222</td>\n",
       "      <td>0.867222</td>\n",
       "    </tr>\n",
       "  </tbody>\n",
       "</table>\n",
       "</div>"
      ],
      "text/plain": [
       "                  Original   Imputed\n",
       "Logistic (SMOTE)  0.867222  0.867222"
      ]
     },
     "metadata": {},
     "output_type": "display_data"
    }
   ],
   "source": [
    "# store the mean Cvs for comparison\n",
    "logi_SMOTE_cv_comp = pd.DataFrame({'Original': [logi_SMOTE_meanCV], 'Imputed': [logi_SMOTE_imputed_meanCV]}, index= ['Logistic (SMOTE)'])\n",
    "display(logi_SMOTE_cv_comp)"
   ]
  },
  {
   "attachments": {},
   "cell_type": "markdown",
   "metadata": {},
   "source": [
    "---\n",
    "### 6. Evaluation\n",
    "\n",
    "To evaluate, we will display all the cross validation scores (roc-auc) in a table"
   ]
  },
  {
   "cell_type": "code",
   "execution_count": 60,
   "metadata": {},
   "outputs": [
    {
     "name": "stdout",
     "output_type": "stream",
     "text": [
      "          Decision Tree  Logistic  Logistic (SMOTE)  Logistic (Elastic)   \n",
      "Original       0.633100  0.792744          0.867222            0.793202  \\\n",
      "Imputed        0.626076  0.786200          0.867222            0.786266   \n",
      "\n",
      "          Ada Boost  \n",
      "Original   0.817340  \n",
      "Imputed    0.811206  \n"
     ]
    }
   ],
   "source": [
    "# Create a dictionary with the data frames and their names\n",
    "dfs = {'Decision Tree': tree_cv_comp, 'Logistic Regression': logi_cv_comp, \n",
    "'SMOTE Logistic Regression': logi_SMOTE_cv_comp, 'Elastic Net Logistic Regression': logi_elastic_cv_comp, 'AdaBoost': ada_cv_comp}\n",
    "\n",
    "# Concatenate the data frames along the row axis\n",
    "result = pd.concat(dfs.values(), axis=0)\n",
    "\n",
    "# Print the resulting data frame\n",
    "print(result.T)\n",
    "\n",
    "# export as csv\n",
    "result.to_csv('CrossVal_Table.csv')"
   ]
  }
 ],
 "metadata": {
  "kernelspec": {
   "display_name": "Python 3",
   "language": "python",
   "name": "python3"
  },
  "language_info": {
   "codemirror_mode": {
    "name": "ipython",
    "version": 3
   },
   "file_extension": ".py",
   "mimetype": "text/x-python",
   "name": "python",
   "nbconvert_exporter": "python",
   "pygments_lexer": "ipython3",
   "version": "3.9.14"
  },
  "orig_nbformat": 4
 },
 "nbformat": 4,
 "nbformat_minor": 2
}
