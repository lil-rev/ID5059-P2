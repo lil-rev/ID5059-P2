{
 "cells": [
  {
   "cell_type": "code",
   "execution_count": null,
   "metadata": {},
   "outputs": [],
   "source": [
    "import sys\n",
    "!{sys.executable} -m pip install numpy pandas matplotlib scikit-learn seaborn imblearn | grep -v 'already satisfied'\n",
    "\n",
    "import pandas as pd\n",
    "import numpy as np \n",
    "import matplotlib.pyplot as plt\n",
    "import seaborn as sb\n",
    "\n",
    "from imblearn.over_sampling import SMOTE\n",
    "from imblearn.under_sampling import RandomUnderSampler\n",
    "from sklearn import tree\n",
    "from sklearn.tree import DecisionTreeClassifier\n",
    "from sklearn.ensemble import AdaBoostClassifier\n",
    "from sklearn.preprocessing import StandardScaler\n",
    "from sklearn.linear_model import LogisticRegression\n",
    "from sklearn.model_selection import cross_val_score, StratifiedKFold, GridSearchCV\n",
    "%matplotlib inline \n",
    "\n",
    "SEED = 618"
   ]
  },
  {
   "cell_type": "code",
   "execution_count": null,
   "metadata": {},
   "outputs": [],
   "source": [
    "# Read in data\n",
    "train = pd.read_csv(\"train.csv\")\n",
    "test = pd.read_csv(\"test.csv\")\n",
    "\n",
    "# Clear the maximum number of columns to be displayed, so that all will be visible.\n",
    "pd.set_option('display.max_columns', None)\n",
    "\n",
    "train.head()"
   ]
  },
  {
   "cell_type": "code",
   "execution_count": null,
   "metadata": {},
   "outputs": [],
   "source": [
    "# set id as index\n",
    "train = train.set_index('id')\n",
    "test = test.set_index('id')\n",
    "\n",
    "# split train set into X_train, y_train\n",
    "y_train = train['Class']\n",
    "X_train = train.drop('Class', axis = 1)"
   ]
  },
  {
   "cell_type": "code",
   "execution_count": null,
   "metadata": {},
   "outputs": [],
   "source": [
    " Make a function to format results\n",
    "def output_func(predictions):\n",
    "    results = pd.DataFrame({'id': test.index, 'Class': predictions[:,1]})\n",
    "    return results"
   ]
  },
  {
   "cell_type": "code",
   "execution_count": null,
   "metadata": {},
   "outputs": [],
   "source": [
    "# Make function to export csv\n",
    "def export_func (results, filename = 'out'):\n",
    "    results.to_csv(filename, index = False)"
   ]
  },
  {
   "attachments": {},
   "cell_type": "markdown",
   "metadata": {},
   "source": [
    "# Logistic Regression with Elastic Net"
   ]
  },
  {
   "cell_type": "code",
   "execution_count": null,
   "metadata": {},
   "outputs": [],
   "source": [
    "# Scale the training data\n",
    "scaler_elastic = StandardScaler()\n",
    "X_elastic_scaled = scaler_elastic.fit_transform(X_train)"
   ]
  },
  {
   "cell_type": "code",
   "execution_count": null,
   "metadata": {},
   "outputs": [],
   "source": [
    "# Define the hyperparameter grid\n",
    "param_grid = { 'C': [0.1, 1, 10]\n",
    "    'l1_ratio': [0.1, 0.5, 0.9] }\n",
    "\n",
    "# define logisitc regressor with elastic net\n",
    "logi_elastic = LogisticRegression(penalty='elasticnet', solver='saga', max_iter=100)\n",
    "\n",
    "# Perform cross-validation grid search\n",
    "grid_search = GridSearchCV(logi_elastic, param_grid, cv=4)\n",
    "grid_search.fit(X_elastic_scaled, y_train)\n",
    "\n",
    "# Choose the best hyperparameters\n",
    "best_params = grid_search.best_params_\n",
    "best_params"
   ]
  }
 ],
 "metadata": {
  "language_info": {
   "name": "python"
  },
  "orig_nbformat": 4
 },
 "nbformat": 4,
 "nbformat_minor": 2
}
